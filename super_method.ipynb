{
  "nbformat": 4,
  "nbformat_minor": 0,
  "metadata": {
    "colab": {
      "provenance": [],
      "authorship_tag": "ABX9TyPDjvY7fojEYyr96f2Lut8h",
      "include_colab_link": true
    },
    "kernelspec": {
      "name": "python3",
      "display_name": "Python 3"
    },
    "language_info": {
      "name": "python"
    }
  },
  "cells": [
    {
      "cell_type": "markdown",
      "metadata": {
        "id": "view-in-github",
        "colab_type": "text"
      },
      "source": [
        "<a href=\"https://colab.research.google.com/github/shanzytrac/03_if_statement/blob/main/super_method.ipynb\" target=\"_parent\"><img src=\"https://colab.research.google.com/assets/colab-badge.svg\" alt=\"Open In Colab\"/></a>"
      ]
    },
    {
      "cell_type": "code",
      "execution_count": null,
      "metadata": {
        "id": "A_zbXc50Sr6y"
      },
      "outputs": [],
      "source": []
    },
    {
      "cell_type": "code",
      "source": [
        "class person:\n",
        "    def __init__(self, name):\n",
        "        self.name = name\n",
        "\n",
        "#step2: child class\n",
        "class Teacher(person):\n",
        "    def __init__(self, name, subject):\n",
        "        super().__init__(name)\n",
        "        self.subject = subject\n",
        "\n",
        "#step3:display\n",
        "    def display (self):\n",
        "      print(f\"Name: {self.name}, subject: {self.subject}\")\n",
        "#creating object\n",
        "if __name__ == \"__main__\":\n",
        "    teacher = Teacher(\"Miss sana\", \"maths\")\n",
        "    teacher.display()"
      ],
      "metadata": {
        "colab": {
          "base_uri": "https://localhost:8080/"
        },
        "id": "Z8FtHpEIS91C",
        "outputId": "4e09e653-dc09-42b9-cbc7-f548f6b7340e"
      },
      "execution_count": 1,
      "outputs": [
        {
          "output_type": "stream",
          "name": "stdout",
          "text": [
            "Name: Miss sana, subject: maths\n"
          ]
        }
      ]
    }
  ]
}