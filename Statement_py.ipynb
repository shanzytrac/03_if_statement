{
  "nbformat": 4,
  "nbformat_minor": 0,
  "metadata": {
    "colab": {
      "provenance": [],
      "authorship_tag": "ABX9TyOw9n2vVlm6lnCaJERqJ3yV",
      "include_colab_link": true
    },
    "kernelspec": {
      "name": "python3",
      "display_name": "Python 3"
    },
    "language_info": {
      "name": "python"
    }
  },
  "cells": [
    {
      "cell_type": "markdown",
      "metadata": {
        "id": "view-in-github",
        "colab_type": "text"
      },
      "source": [
        "<a href=\"https://colab.research.google.com/github/shanzytrac/03_if_statement/blob/main/Statement_py.ipynb\" target=\"_parent\"><img src=\"https://colab.research.google.com/assets/colab-badge.svg\" alt=\"Open In Colab\"/></a>"
      ]
    },
    {
      "cell_type": "code",
      "execution_count": 3,
      "metadata": {
        "colab": {
          "base_uri": "https://localhost:8080/"
        },
        "id": "G3aGj9YGxGML",
        "outputId": "e685ab9a-48a0-47b1-8650-43340b6dd1aa"
      },
      "outputs": [
        {
          "output_type": "stream",
          "name": "stdout",
          "text": [
            "01_print_events\n",
            "0\n",
            "2\n",
            "4\n",
            "6\n",
            "8\n",
            "10\n",
            "12\n",
            "14\n",
            "16\n",
            "18\n",
            "20\n",
            "22\n",
            "24\n",
            "26\n",
            "28\n",
            "30\n",
            "32\n",
            "34\n",
            "36\n",
            "38\n",
            "40\n",
            "42\n",
            "44\n",
            "46\n",
            "48\n",
            "50\n",
            "52\n",
            "54\n",
            "56\n",
            "58\n",
            "60\n",
            "62\n",
            "64\n",
            "66\n",
            "68\n",
            "70\n",
            "72\n",
            "74\n",
            "76\n",
            "78\n",
            "03_leap_year\n",
            "Enter as year. 2024\n",
            "2024is not a leap year. \n",
            "04_tall_enough_to_ride\n",
            "how tall are you? 06\n",
            "your are not tall enough to ride.May be next year.\n",
            "85\n",
            "79\n",
            "64\n",
            "32\n",
            "63\n",
            "46\n",
            "50\n",
            "69\n",
            "83\n",
            "48\n"
          ]
        }
      ],
      "source": [
        "print(\"01_print_events\")\n",
        "\n",
        "def even():\n",
        "  for i in range(40):\n",
        "    even = i * 2\n",
        "    print(even)\n",
        "  # print(\"Here is 20 even number are: \",i * 2)\n",
        "\n",
        "if __name__ == \"__main__\":\n",
        "    even()\n",
        "\n",
        "\n",
        "\n",
        "\n",
        "print(\"03_leap_year\")  #\n",
        "\n",
        "def leap_year():\n",
        "  year:int =int (input(\"Enter as year. \"))\n",
        "  if year % 4 == 0:\n",
        "    if year % 100 == 0:\n",
        "      if year % 400 == 0 :\n",
        "        print (f'{year}is a leap year. ')\n",
        "      else:\n",
        "       print(f'{year}is not a leap year. ')\n",
        "    else:\n",
        "      print(f'{year}is not a leap year. ')\n",
        "  else:\n",
        "    print(f'{year}is not a leap year. ')  #2035\n",
        "if __name__ == \"__main__\":\n",
        "  leap_year()\n",
        "\n",
        "\n",
        "  print(\"04_tall_enough_to_ride\")   #\n",
        "min_height:int =50\n",
        "def main():\n",
        "   user:int = int(input(\"how tall are you? \"))\n",
        "   if user >= min_height:\n",
        "    print(\"you are tall enough to ride\")  #5\n",
        "   else:\n",
        "    print(\"your are not tall enough to ride.May be next year.\")\n",
        "if __name__ == \"__main__\":\n",
        "      main()\n",
        "\n",
        "\n",
        "import random     #5\n",
        "def main():\n",
        "  for i in range(10):\n",
        "    num:list[int] = random.randint(1,100)\n",
        "    print (num)\n",
        "if __name__ == \"__main__\":\n",
        "      main()\n"
      ]
    }
  ]
}