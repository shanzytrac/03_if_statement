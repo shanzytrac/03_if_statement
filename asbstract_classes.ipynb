{
  "nbformat": 4,
  "nbformat_minor": 0,
  "metadata": {
    "colab": {
      "provenance": [],
      "authorship_tag": "ABX9TyPc7qs01UduX947u2NFHKZ2",
      "include_colab_link": true
    },
    "kernelspec": {
      "name": "python3",
      "display_name": "Python 3"
    },
    "language_info": {
      "name": "python"
    }
  },
  "cells": [
    {
      "cell_type": "markdown",
      "metadata": {
        "id": "view-in-github",
        "colab_type": "text"
      },
      "source": [
        "<a href=\"https://colab.research.google.com/github/shanzytrac/03_if_statement/blob/main/asbstract_classes.ipynb\" target=\"_parent\"><img src=\"https://colab.research.google.com/assets/colab-badge.svg\" alt=\"Open In Colab\"/></a>"
      ]
    },
    {
      "cell_type": "code",
      "execution_count": null,
      "metadata": {
        "id": "3Rc8Ao5yL50P"
      },
      "outputs": [],
      "source": []
    },
    {
      "cell_type": "code",
      "source": [
        "from abc import ABC, abstractmethod\n",
        "\n",
        "class shape (ABC):      #abstra\n",
        "    @abstractmethod     #python ka decorater hy\n",
        "    def area (self):    #sirf name hoga imlimentation nai hogi\n",
        "        pass\n",
        "\n",
        "class Reactangle:\n",
        " def __init__(self, width, height):\n",
        "    self.width = width\n",
        "    self.height = height\n",
        "\n",
        "def area(self):\n",
        "  return self.width * self.height\n",
        "  if __name__ == \"__main__\":\n",
        "    rect = Reactangle(4,5)\n",
        "    print(\"Area of Reactangle:\", react.area())\n"
      ],
      "metadata": {
        "id": "snUbGwR2L8Tr"
      },
      "execution_count": 11,
      "outputs": []
    }
  ]
}