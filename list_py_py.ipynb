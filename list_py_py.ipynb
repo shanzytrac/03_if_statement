{
  "nbformat": 4,
  "nbformat_minor": 0,
  "metadata": {
    "colab": {
      "provenance": [],
      "authorship_tag": "ABX9TyOMp6vFsHKdd9PX6pJG2xZI",
      "include_colab_link": true
    },
    "kernelspec": {
      "name": "python3",
      "display_name": "Python 3"
    },
    "language_info": {
      "name": "python"
    }
  },
  "cells": [
    {
      "cell_type": "markdown",
      "metadata": {
        "id": "view-in-github",
        "colab_type": "text"
      },
      "source": [
        "<a href=\"https://colab.research.google.com/github/shanzytrac/03_if_statement/blob/main/list_py_py.ipynb\" target=\"_parent\"><img src=\"https://colab.research.google.com/assets/colab-badge.svg\" alt=\"Open In Colab\"/></a>"
      ]
    },
    {
      "cell_type": "code",
      "execution_count": null,
      "metadata": {
        "id": "TyuolYRodOZx"
      },
      "outputs": [],
      "source": []
    },
    {
      "cell_type": "code",
      "source": [
        "print(\"01_add_many_number_md\") #\n",
        "\n",
        "def add_number (numbers) ->int:\n",
        "    num:int = 0\n",
        "    for i in numbers:\n",
        "        num += i\n",
        "    return num\n",
        "\n",
        "def main():\n",
        "            numbers:list[int] = [1,2,3,4,5]\n",
        "            sum = add_number(numbers)\n",
        "            print(sum)\n",
        "if __name__ == '__main__':\n",
        "    main()"
      ],
      "metadata": {
        "colab": {
          "base_uri": "https://localhost:8080/"
        },
        "id": "nkWR9UFVk7ul",
        "outputId": "5c534bf7-d5ac-46ae-cc24-c486183e2572"
      },
      "execution_count": 5,
      "outputs": [
        {
          "output_type": "stream",
          "name": "stdout",
          "text": [
            "01_add_many_number_md\n",
            "15\n"
          ]
        }
      ]
    },
    {
      "cell_type": "code",
      "source": [
        "print(\"02_double_list\")  #\n",
        "\n",
        "def main():\n",
        "    numbers:list[int] = [1,2,3,4,5]\n",
        "print(\"02_double_list\")  #\n",
        "\n",
        "def main():\n",
        "    numbers:list[int] = [1,2,3,4,5]\n",
        "    for i in range (len(numbers)):\n",
        "        index = numbers[i]\n",
        "        numbers[i] = index * 2\n",
        "    print(numbers)\n",
        "if __name__ == '__main__':\n",
        "   main()\n",
        "   main()"
      ],
      "metadata": {
        "colab": {
          "base_uri": "https://localhost:8080/"
        },
        "id": "Udod23Rrlieu",
        "outputId": "6f93f6e3-d748-46fe-f89c-be8a05a67e7a"
      },
      "execution_count": 7,
      "outputs": [
        {
          "output_type": "stream",
          "name": "stdout",
          "text": [
            "02_double_list\n",
            "02_double_list\n",
            "[2, 4, 6, 8, 10]\n",
            "[2, 4, 6, 8, 10]\n"
          ]
        }
      ]
    },
    {
      "cell_type": "code",
      "source": [
        "print(\"05_get_first_element\")   #\n",
        "\n",
        "def get_first_element(list):\n",
        "  print(lst[0])\n",
        "\n",
        "def get_lst():\n",
        "    lst = []\n",
        "    elem:str = input(\"Enter an element to add to the list. \")\n",
        "    while elem != \"\":\n",
        "        lst.append(elem)\n",
        "        elem = input(\"Enter an element to add to the list. \")\n",
        "    return lst\n",
        "def main():\n",
        "    lst = get_lst()\n",
        "    get_first_element(lst)    #a,s,d,r,y,1,r\n",
        "if __name__ == '__main__':\n",
        "      main()"
      ],
      "metadata": {
        "colab": {
          "base_uri": "https://localhost:8080/"
        },
        "id": "a3HmQnv9mbCU",
        "outputId": "ce8f8019-d70e-411b-a54c-cd99c5f34a6e"
      },
      "execution_count": null,
      "outputs": [
        {
          "name": "stdout",
          "output_type": "stream",
          "text": [
            "05_get_first_element\n",
            "Enter an element to add to the list. a\n",
            "Enter an element to add to the list. b\n",
            "Enter an element to add to the list. c\n",
            "Enter an element to add to the list. d\n",
            "Enter an element to add to the list. z\n"
          ]
        }
      ]
    },
    {
      "cell_type": "code",
      "source": [
        "print(\"06_get_last_element\")  #\n",
        "\n",
        "\n",
        "def  get_last_elementI(lst):\n",
        "    print(lst[-1])\n",
        "def get_lst():\n",
        "    lst = []\n",
        "    elem:str = input(\"Enter an element to add to the list. \")\n",
        "    while elem != \"\":\n",
        "        lst.append(elem)\n",
        "        elem = input(\"Enter an element to add to the list. \")\n",
        "    return lst\n",
        "\n",
        "def main():\n",
        "    lst = get_lst()\n",
        "    get_last_elementI(lst)     #r,l,t,r,o,p,r,k pir khali\n",
        "\n",
        "if __name__ == '__main__':\n",
        "      main()\n",
        "\n"
      ],
      "metadata": {
        "id": "auF0zFQ5pGQ7"
      },
      "execution_count": null,
      "outputs": []
    },
    {
      "cell_type": "code",
      "source": [
        "print(\"07_get_list\")  #\n",
        "\n",
        "def main():\n",
        "    lst = []\n",
        "    val = input(\"Enter a value to add to the list. \")\n",
        "    while val:\n",
        "        lst.append(val)\n",
        "        vel = input(\"Enter a value to add to the list. \")    #ali,noman,amna,sana,sidra,mona\n",
        "    print(\"Here's is the list: \",lst)\n",
        "\n",
        "if __name__ == '__main__':\n",
        "      main()"
      ],
      "metadata": {
        "id": "s_x8yLXdpX30"
      },
      "execution_count": null,
      "outputs": []
    },
    {
      "cell_type": "code",
      "source": [
        "print(\"08_shorten\")   #\n",
        "\n",
        "MAX_LENTH:int = 3\n",
        "def shorten(lst):\n",
        "    while lenth (lst) >= MAX_LENTH:\n",
        "     last_element = lst.pop()\n",
        "     print (last-element)\n",
        "\n",
        "def get_lst():\n",
        "    lst = []\n",
        "    element = input(\"Enter an element to add to the list. \")\n",
        "    while element != \"\":\n",
        "        last.appand(element)\n",
        "        element = input(\"enter an element to add to the list. \")  #a,v,y,y,e,y,o\n",
        "    return lst\n",
        "def main():\n",
        "    lst get_lst()\n",
        "    shorten(lst)\n",
        "if __name__ == '__main__':\n",
        "      main()\n",
        "\n",
        "import pygame\n",
        "import time\n",
        "\n",
        "pygame.init()\n",
        "\n",
        "CANVA_WIDTH = 400\n",
        "CANVA_HEIGHT = 400\n",
        "CELL_SIZE = 40\n",
        "ERASER_SIZE =20\n",
        "\n",
        "BLUE = (0,0,225)\n",
        "WHITE = (225,225,225)\n",
        "PINK = (225,182,193)\n",
        "\n",
        "screen =pygame.display.set_mode((CANVA_WIDTH,CANVA_HEIGHT))\n",
        "pygame.display.set_caption(\"Enter effect in pygame\")\n",
        "\n",
        "grid = []\n",
        "for row in range(0,CANVA_HEIGHT,CELL_SIZE):\n",
        "    for col in range(0,CANVA_WIDTH,CELL_SIZE):\n",
        "        rect = pygame.Rect(col,row,CELL_SIZE,CELL_SIZE)\n",
        "        grit.appand(appand)\n",
        "\n",
        "eraser = pygame.Rect(200,200,ERASER_SIZE,ERASER_SIZE)\n",
        "\n",
        "running = true\n",
        "while running:\n",
        "    screen.fill(WHITE)\n",
        "    for rect in grid:\n",
        "        pygame.draw.rect(screen, BLUE, rect)\n",
        "\n",
        "        mouse_x, mouse_y = pygame.mouse.get_pos()\n",
        "        eraser.topleft = (mouse_x,mouse_y)\n",
        "\n",
        "        new_grid = []\n",
        "        for rect in grid:\n",
        "            if not eraser.colliderect(rect):\n",
        "                new_grid.appand(rect)\n",
        "        grid = new_grid\n",
        "\n",
        "        pygame.draw.rect(screen, PINK, eraser)\n",
        "\n",
        "        for event in pygame.event.get():\n",
        "            if event.type == pygame.QUIT:\n",
        "                running = False\n",
        "        pygame.display.flip()\n",
        "        time.sleep(0.05)\n",
        "    pygame.quit()\n",
        "\n",
        "\n",
        "\n",
        "\n",
        "\n",
        "\n",
        "\n",
        "\n",
        "\n",
        "\n",
        "\n",
        "\n",
        "\n",
        "\n",
        "\n",
        "\n",
        "\n",
        "\n",
        "\n",
        "\n"
      ],
      "metadata": {
        "id": "3JTTT1impoMu",
        "outputId": "b95c8cc3-95e1-47fe-ca27-9fc4ed206968",
        "colab": {
          "base_uri": "https://localhost:8080/",
          "height": 106
        }
      },
      "execution_count": 9,
      "outputs": [
        {
          "output_type": "error",
          "ename": "SyntaxError",
          "evalue": "invalid syntax (<ipython-input-9-3ab632f612a7>, line 17)",
          "traceback": [
            "\u001b[0;36m  File \u001b[0;32m\"<ipython-input-9-3ab632f612a7>\"\u001b[0;36m, line \u001b[0;32m17\u001b[0m\n\u001b[0;31m    lst get_lst()\u001b[0m\n\u001b[0m        ^\u001b[0m\n\u001b[0;31mSyntaxError\u001b[0m\u001b[0;31m:\u001b[0m invalid syntax\n"
          ]
        }
      ]
    }
  ]
}