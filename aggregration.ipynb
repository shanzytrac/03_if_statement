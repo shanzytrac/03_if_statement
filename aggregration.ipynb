{
  "nbformat": 4,
  "nbformat_minor": 0,
  "metadata": {
    "colab": {
      "provenance": [],
      "authorship_tag": "ABX9TyNHLHkvAEAt4+5BPERwEGLD",
      "include_colab_link": true
    },
    "kernelspec": {
      "name": "python3",
      "display_name": "Python 3"
    },
    "language_info": {
      "name": "python"
    }
  },
  "cells": [
    {
      "cell_type": "markdown",
      "metadata": {
        "id": "view-in-github",
        "colab_type": "text"
      },
      "source": [
        "<a href=\"https://colab.research.google.com/github/shanzytrac/03_if_statement/blob/main/aggregration.ipynb\" target=\"_parent\"><img src=\"https://colab.research.google.com/assets/colab-badge.svg\" alt=\"Open In Colab\"/></a>"
      ]
    },
    {
      "cell_type": "code",
      "execution_count": null,
      "metadata": {
        "id": "82xS0egoU1Wx"
      },
      "outputs": [],
      "source": []
    },
    {
      "cell_type": "code",
      "source": [
        "class Bank:\n",
        "    bank_name = \"Habib Bank\"\n",
        "\n",
        "    @classmethod\n",
        "    def change_bank_name(cls,name):\n",
        "        cls.bank_name = name\n",
        "\n",
        "if __name__ == \"__main__\":\n",
        "    user1 = Bank()\n",
        "    user2 = Bank()\n",
        "\n",
        "    print(\"Before changing bank name:\")\n",
        "    print(f\"User1's bank name: {user1.bank_name}\" )\n",
        "    print(f\"User2's bank name: {user2.bank_name}\" )\n",
        "\n",
        "    Bank.change_bank_name(\"Led Bank\")\n",
        "\n",
        "    print(\"/nAfter changing bank name:\")\n",
        "    print(f\"User1's bank name: {user1.bank_name}\" )\n",
        "    print(f\"User2's bank name: {user2.bank_name}\" )\n"
      ],
      "metadata": {
        "colab": {
          "base_uri": "https://localhost:8080/"
        },
        "id": "blBsOpb7XLN8",
        "outputId": "6002b4ae-e839-4e54-ecab-b4dc3c521f62"
      },
      "execution_count": 3,
      "outputs": [
        {
          "output_type": "stream",
          "name": "stdout",
          "text": [
            "Before changing bank name:\n",
            "User1's bank name: Habib Bank\n",
            "User2's bank name: Habib Bank\n",
            "/nAfter changing bank name:\n",
            "User1's bank name: Led Bank\n",
            "User2's bank name: Led Bank\n"
          ]
        }
      ]
    },
    {
      "cell_type": "code",
      "source": [
        "class Employee:\n",
        "    def __init__(self, name):\n",
        "        self.name = name\n",
        "\n",
        "class Department:                  #aggregration dono class ka apna apna object hy\n",
        "    def __init__(self, employee):\n",
        "        self.employee = employee\n",
        "\n",
        "    def show_empolyee(self):\n",
        "        print(f\"Employee in department:{self.employee.name}\")\n",
        "if __name__ == \"__main__\":\n",
        "    emp = Employee(\"sofia\")\n",
        "    dept = Department(emp)\n",
        "    dept.show_empolyee()"
      ],
      "metadata": {
        "colab": {
          "base_uri": "https://localhost:8080/"
        },
        "id": "USK6rN3ZXuan",
        "outputId": "4ae3a194-33d3-4bd3-9267-44ab28069380"
      },
      "execution_count": 5,
      "outputs": [
        {
          "output_type": "stream",
          "name": "stdout",
          "text": [
            "Employee in department:sofia\n"
          ]
        }
      ]
    }
  ]
}