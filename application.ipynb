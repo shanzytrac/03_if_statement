{
  "nbformat": 4,
  "nbformat_minor": 0,
  "metadata": {
    "colab": {
      "provenance": [],
      "authorship_tag": "ABX9TyO+ugZZFc2VEBTiXfDrBa2Q",
      "include_colab_link": true
    },
    "kernelspec": {
      "name": "python3",
      "display_name": "Python 3"
    },
    "language_info": {
      "name": "python"
    }
  },
  "cells": [
    {
      "cell_type": "markdown",
      "metadata": {
        "id": "view-in-github",
        "colab_type": "text"
      },
      "source": [
        "<a href=\"https://colab.research.google.com/github/shanzytrac/03_if_statement/blob/main/application.ipynb\" target=\"_parent\"><img src=\"https://colab.research.google.com/assets/colab-badge.svg\" alt=\"Open In Colab\"/></a>"
      ]
    },
    {
      "cell_type": "code",
      "execution_count": null,
      "metadata": {
        "id": "gyVBzKSE1V0u"
      },
      "outputs": [],
      "source": []
    },
    {
      "cell_type": "code",
      "source": [
        "\n",
        "class Book:\n",
        "  def __init__(self, title, author, category):\n",
        "    self.title = title\n",
        "    self.author = author\n",
        "    self.category = category\n",
        "class Book:\n",
        "  def __init__(self, title, author, category):\n",
        "    self.title = title\n",
        "    self.author = author\n",
        "    self.category = category\n",
        "    self.is_available = True\n",
        "  def display(self):\n",
        "        print(f\"title: {self.title}, author: {self.author}, category:{self.category}\")\n",
        "\n",
        "def get_ipython():\n",
        "    pass\n",
        "\n",
        "c1 = Book(\"Hadeesmuslim\", \"imam muslim\", \"Hadees\")\n",
        "c1.display()\n",
        "c1.display()"
      ],
      "metadata": {
        "colab": {
          "base_uri": "https://localhost:8080/"
        },
        "id": "q_9vqgCG1XM1",
        "outputId": "5c57055a-e8a1-420e-d1a4-27305d2d7ac6"
      },
      "execution_count": 21,
      "outputs": [
        {
          "output_type": "stream",
          "name": "stdout",
          "text": [
            "title: Hadeesmuslim, author: imam muslim, category:Hadees\n",
            "title: Hadeesmuslim, author: imam muslim, category:Hadees\n"
          ]
        }
      ]
    }
  ]
}