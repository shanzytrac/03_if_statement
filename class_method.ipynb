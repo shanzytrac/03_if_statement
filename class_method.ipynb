{
  "nbformat": 4,
  "nbformat_minor": 0,
  "metadata": {
    "colab": {
      "provenance": [],
      "authorship_tag": "ABX9TyPLzR8BXAUOMTpBMmf/nldz",
      "include_colab_link": true
    },
    "kernelspec": {
      "name": "python3",
      "display_name": "Python 3"
    },
    "language_info": {
      "name": "python"
    }
  },
  "cells": [
    {
      "cell_type": "markdown",
      "metadata": {
        "id": "view-in-github",
        "colab_type": "text"
      },
      "source": [
        "<a href=\"https://colab.research.google.com/github/shanzytrac/03_if_statement/blob/main/class_method.ipynb\" target=\"_parent\"><img src=\"https://colab.research.google.com/assets/colab-badge.svg\" alt=\"Open In Colab\"/></a>"
      ]
    },
    {
      "cell_type": "code",
      "execution_count": null,
      "metadata": {
        "id": "LHZt9YQQNFAB"
      },
      "outputs": [],
      "source": []
    },
    {
      "cell_type": "code",
      "source": [
        "class Dog:\n",
        "    def __init__(self, name, bread):\n",
        "        self.name = name    #instanc variable\n",
        "        self.bread = bread  #instanc variable\n",
        "\n",
        "    def bark(self):\n",
        "        print(f\"{self.name},is barking!\")\n",
        "\n",
        "if __name__ == \"__main__\" :\n",
        "    #creating an object(inctance)jo object ky zarye call ho\n",
        "    my_dog = Dog(\"Tommy\", \"Labrator\" )\n",
        "    #call the method\n",
        "    my_dog.bark()\n",
        "\n"
      ],
      "metadata": {
        "colab": {
          "base_uri": "https://localhost:8080/"
        },
        "id": "YsYiSIj2NOIS",
        "outputId": "4a662c2e-1065-43a3-bb4c-b6a5ee2b5c4a"
      },
      "execution_count": 3,
      "outputs": [
        {
          "output_type": "stream",
          "name": "stdout",
          "text": [
            "Tommy,is barking!\n"
          ]
        }
      ]
    },
    {
      "cell_type": "code",
      "source": [
        "class Book:\n",
        "    total_book = 0  #class variable\n",
        "\n",
        "    @classmethod\n",
        "    def increment_book_count(cls):\n",
        "        cls.total_book += 1\n",
        "if __name__ ==\"__main__\":\n",
        "    Book.increment_book_count()\n",
        "    Book.increment_book_count()\n",
        "    Book.increment_book_count()\n",
        "\n",
        "    print(\"Total books added: {Book.total_book}\")\n"
      ],
      "metadata": {
        "colab": {
          "base_uri": "https://localhost:8080/"
        },
        "id": "jTvfthHXNhHZ",
        "outputId": "a30f0bff-a920-421c-d4bf-935fbf7a627b"
      },
      "execution_count": 4,
      "outputs": [
        {
          "output_type": "stream",
          "name": "stdout",
          "text": [
            "Total books added: {Book.total_book}\n"
          ]
        }
      ]
    }
  ]
}