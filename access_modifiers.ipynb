{
  "nbformat": 4,
  "nbformat_minor": 0,
  "metadata": {
    "colab": {
      "provenance": [],
      "authorship_tag": "ABX9TyOmQC7zOjsXMOiz3abGIwrn",
      "include_colab_link": true
    },
    "kernelspec": {
      "name": "python3",
      "display_name": "Python 3"
    },
    "language_info": {
      "name": "python"
    }
  },
  "cells": [
    {
      "cell_type": "markdown",
      "metadata": {
        "id": "view-in-github",
        "colab_type": "text"
      },
      "source": [
        "<a href=\"https://colab.research.google.com/github/shanzytrac/03_if_statement/blob/main/access_modifiers.ipynb\" target=\"_parent\"><img src=\"https://colab.research.google.com/assets/colab-badge.svg\" alt=\"Open In Colab\"/></a>"
      ]
    },
    {
      "cell_type": "code",
      "execution_count": null,
      "metadata": {
        "id": "w1XBE5uBTixN"
      },
      "outputs": [],
      "source": []
    },
    {
      "cell_type": "code",
      "source": [
        "class Employee:\n",
        "    def __init__(self, name, salary, ssn):\n",
        "        self.name = name #public variable\n",
        "        self._salary = salary  #protected variable\n",
        "        self.__ssn = ssn  #private variable\n",
        "\n",
        "if __name__ == \"__main__\":\n",
        "    emp = Employee(\"Asad\", 50000, \"123-45-6789 \")\n",
        "    #access public variable\n",
        "    print(\"Public Variable:\", emp.name)\n",
        "    #access protected variable\n",
        "    print(\"Protected Variable:\", emp._salary)\n",
        "    #access private variable\n",
        "    try:\n",
        "        print(\"Private Variable:\", emp.__ssn)\n",
        "    except AttributeError:\n",
        "        print(\"cannote access private variable __sscn. \")\n"
      ],
      "metadata": {
        "colab": {
          "base_uri": "https://localhost:8080/"
        },
        "id": "2Q_lr9HbTwYT",
        "outputId": "ff089f03-0de1-4b54-ed0e-93c849e8d703"
      },
      "execution_count": 1,
      "outputs": [
        {
          "output_type": "stream",
          "name": "stdout",
          "text": [
            "Public Variable: Asad\n",
            "Protected Variable: 50000\n",
            "cannote access private variable __sscn. \n"
          ]
        }
      ]
    }
  ]
}