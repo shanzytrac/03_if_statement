{
  "nbformat": 4,
  "nbformat_minor": 0,
  "metadata": {
    "colab": {
      "provenance": [],
      "authorship_tag": "ABX9TyNe0dgkulIrChV8vE1DP2jt",
      "include_colab_link": true
    },
    "kernelspec": {
      "name": "python3",
      "display_name": "Python 3"
    },
    "language_info": {
      "name": "python"
    }
  },
  "cells": [
    {
      "cell_type": "markdown",
      "metadata": {
        "id": "view-in-github",
        "colab_type": "text"
      },
      "source": [
        "<a href=\"https://colab.research.google.com/github/shanzytrac/03_if_statement/blob/main/intro_py.ipynb\" target=\"_parent\"><img src=\"https://colab.research.google.com/assets/colab-badge.svg\" alt=\"Open In Colab\"/></a>"
      ]
    },
    {
      "cell_type": "code",
      "execution_count": null,
      "metadata": {
        "id": "gh_YpYiJa-Nz"
      },
      "outputs": [],
      "source": []
    },
    {
      "cell_type": "code",
      "source": [
        "print(\"01_add_two_numbers\")\n",
        "\n",
        "def add():\n",
        "    print(\"this application for add two numbers\")\n",
        "    first_number=int(input(\"inter your first_number\"))\n",
        "    second_number=int(input(\"Enter your second_number\"))\n",
        "    total=int(first_number + second_number)\n",
        "    print(f'the total sum of{first_number}and{second_number}is{total}')\n",
        "if __name__ ==\"__main__\":\n",
        "   add()\n",
        "\n",
        "   print(\"02_agreement_bot\")\n",
        "   def bot():\n",
        "        animal =str(input(\"What their favourite animal?\"))\n",
        "        print(f'My favourite animal is also {animal}!')\n",
        "if __name__=='__main__':\n",
        "    bot()\n",
        "\n",
        "print(\"03_fahrenheit_to_celsius\")\n",
        "def temp():\n",
        "    print(\"This code for converting fahrenheit_to_celsius\")\n",
        "    fahrenheit_degree=float(input(\"Enter your fahrenheit degree. \"))\n",
        "    celsius_degree = (fahrenheit_degree - 32) * 5.0/9.0\n",
        "    print(f'temperature(fahrenhei_degree)=(celsius_degree) c')\n",
        "if __name__=='__main__':\n",
        "   temp()\n",
        "\n",
        "   print(\"04_how_old_are_the\")\n",
        "   def add_ages():\n",
        "    anthon:int = 21\n",
        "    bech:int = anthon + 6\n",
        "    chen:int = bech + 20\n",
        "    drew:int = chen + anthon\n",
        "    ethan:int = chen\n",
        "    print(\"Anthon is \" + str(anthon))\n",
        "    print(\"Bech is \" + str(bech))\n",
        "    print(\"Chen is \" + str(chen))\n",
        "    print(\"Drew is \" + str(drew))\n",
        "    print(\"Ethan is \"+ str(ethan))\n",
        "if __name__=='__main__':\n",
        "    add_ages()\n",
        "\n",
        "    print(\"05_triangle_perimeter.\")\n",
        "    def triangle():\n",
        "        print(\"This code is about perimeter of triangle. \")\n",
        "        side1:float = float(input(\"Enter your first side no of triangle. \"))\n",
        "        side2:float = float(input(\"Enter your second side no of triangle. \"))\n",
        "        side3:float = float(input(\"Enter your third side no of triangle. \"))\n",
        "        total:float = float(side1 + side2 + side3)\n",
        "        print(f'The perimeter of the triangle is {total}')\n",
        "if __name__=='__main__':\n",
        "    triangle()\n",
        "\n",
        "    print(\"06_square_number\")\n",
        "    def square():\n",
        "        print(\"This code is about square of given number\")\n",
        "        num1:int = int(input(\"Enter any number and i will give u a squar value. \"))\n",
        "        print(f'The suare of{num1} is {num1 ** 2}')\n",
        "if __name__=='__main__':\n",
        "    square()\n",
        "\n"
      ],
      "metadata": {
        "colab": {
          "base_uri": "https://localhost:8080/"
        },
        "id": "_nLfIeUka_Az",
        "outputId": "11134c64-1cc1-457a-b82f-bd6415ba28bb"
      },
      "execution_count": null,
      "outputs": [
        {
          "output_type": "stream",
          "name": "stdout",
          "text": [
            "01_add_two_numbers\n",
            "this application for add two numbers\n",
            "inter your first_number61\n",
            "Enter your second_number32\n",
            "the total sum of61and32is93\n",
            "02_agreement_bot\n",
            "What their favourite animal?cat\n",
            "My favourite animal is also cat!\n",
            "03_fahrenheit_to_celsius\n",
            "This code for converting fahrenheit_to_celsius\n",
            "Enter your fahrenheit degree. 30\n",
            "temperature(fahrenhei_degree)=(celsius_degree) c\n",
            "04_how_old_are_the\n",
            "Anthon is 21\n",
            "Bech is 27\n",
            "Chen is 47\n",
            "Drew is 68\n",
            "Ethan is 47\n",
            "05_triangle_perimeter.\n",
            "This code is about perimeter of triangle. \n"
          ]
        }
      ]
    }
  ]
}