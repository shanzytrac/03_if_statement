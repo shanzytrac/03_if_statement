{
  "nbformat": 4,
  "nbformat_minor": 0,
  "metadata": {
    "colab": {
      "provenance": [],
      "authorship_tag": "ABX9TyPVAUrbn+FC20DrLFBTV4o8",
      "include_colab_link": true
    },
    "kernelspec": {
      "name": "python3",
      "display_name": "Python 3"
    },
    "language_info": {
      "name": "python"
    }
  },
  "cells": [
    {
      "cell_type": "markdown",
      "metadata": {
        "id": "view-in-github",
        "colab_type": "text"
      },
      "source": [
        "<a href=\"https://colab.research.google.com/github/shanzytrac/03_if_statement/blob/main/python_opp_assignment.ipynb\" target=\"_parent\"><img src=\"https://colab.research.google.com/assets/colab-badge.svg\" alt=\"Open In Colab\"/></a>"
      ]
    },
    {
      "cell_type": "code",
      "execution_count": null,
      "metadata": {
        "id": "Oc_A7c8lU4GQ"
      },
      "outputs": [],
      "source": []
    },
    {
      "cell_type": "code",
      "source": [
        "class Bank:\n",
        "    bank_name = \"Habib Bank\"\n",
        "\n",
        "    @classmethod\n",
        "    def change_bank_name(cls,name):\n",
        "        cls.bank_name = name\n",
        "\n",
        "if __name__ == \"__main__\":\n",
        "    user1 = Bank()\n",
        "    user2 = Bank()\n",
        "\n",
        "    print(\"Before changing bank name:\")\n",
        "    print(f\"User1's bank name: {user1.bank_name}\" )\n",
        "    print(f\"User2's bank name: {user2.bank_name}\" )\n",
        "\n",
        "    Bank.change_bank_name(\"Led Bank\")\n",
        "\n",
        "    print(\"/nAfter changing bank name:\")\n",
        "    print(f\"User1's bank name: {user1.bank_name}\" )\n",
        "    print(f\"User2's bank name: {user2.bank_name}\" )\n",
        "\n",
        "\n"
      ],
      "metadata": {
        "colab": {
          "base_uri": "https://localhost:8080/"
        },
        "id": "7tKuwoTNU43n",
        "outputId": "566ba3cb-86fb-44cd-cab6-86d882aa60c7"
      },
      "execution_count": 14,
      "outputs": [
        {
          "output_type": "stream",
          "name": "stdout",
          "text": [
            "Before changing bank name:\n",
            "User1's bank name: Habib Bank\n",
            "User2's bank name: Habib Bank\n",
            "/nAfter changing bank name:\n",
            "User1's bank name: Led Bank\n",
            "User2's bank name: Led Bank\n"
          ]
        }
      ]
    },
    {
      "cell_type": "code",
      "source": [
        "class MathUtils:\n",
        "    @staticmethod\n",
        "    def add(a, b):\n",
        "        return a + b\n",
        "\n",
        "if __name__ == \"__main__\":\n",
        "    result = MathUtils.add(3, 5)\n",
        "    print(\"sum:\", result)"
      ],
      "metadata": {
        "colab": {
          "base_uri": "https://localhost:8080/"
        },
        "id": "7D1Bjv3Ub_1b",
        "outputId": "a30f1baa-b0ac-41e8-8c08-92315bc5f624"
      },
      "execution_count": 15,
      "outputs": [
        {
          "output_type": "stream",
          "name": "stdout",
          "text": [
            "sum: 8\n"
          ]
        }
      ]
    },
    {
      "cell_type": "code",
      "source": [
        "class Logger:\n",
        "    def __init__(self):\n",
        "        print(\"object created\")\n",
        "\n",
        "    def __del__(self):\n",
        "        print(\"object destroyed\")\n",
        "\n",
        "if __name__ == \"__main__\":\n",
        "\n",
        "    log = Logger()\n",
        "    del log\n"
      ],
      "metadata": {
        "colab": {
          "base_uri": "https://localhost:8080/"
        },
        "id": "pnjHtYjrcK1b",
        "outputId": "95e8e42e-2430-4f87-abc9-1a9f79047823"
      },
      "execution_count": 18,
      "outputs": [
        {
          "output_type": "stream",
          "name": "stdout",
          "text": [
            "object created\n",
            "object destroyed\n"
          ]
        }
      ]
    },
    {
      "cell_type": "code",
      "source": [
        "class Employee:\n",
        "    def __init__(self, name, salary, ssn):\n",
        "        self.name = name #public variable\n",
        "        self._salary = salary  #protected variable\n",
        "        self.__ssn = ssn  #private variable\n",
        "\n",
        "if __name__ == \"__main__\":\n",
        "    emp = Employee(\"Asad\", 50000, \"123-45-6789 \")\n",
        "    #access public variable\n",
        "    print(\"Public Variable:\", emp.name)\n",
        "    #access protected variable\n",
        "    print(\"Protected Variable:\", emp._salary)\n",
        "    #access private variable\n",
        "    try:\n",
        "       print(\"Private Variable:\", emp.__ssn)\n",
        "    except AttributeError:\n",
        "      print(\"cannote access private variable __sscn. \")\n"
      ],
      "metadata": {
        "colab": {
          "base_uri": "https://localhost:8080/"
        },
        "id": "tgx3776XdBZh",
        "outputId": "5d1b8c44-5c93-425f-b4c5-ce5d48e6a7f8"
      },
      "execution_count": 20,
      "outputs": [
        {
          "output_type": "stream",
          "name": "stdout",
          "text": [
            "Public Variable: Asad\n",
            "Protected Variable: 50000\n",
            "cannote access private variable __sscn. \n"
          ]
        }
      ]
    },
    {
      "cell_type": "code",
      "source": [
        "# step1: perent class\n",
        "class person:\n",
        "    def __init__(self, name):\n",
        "        self.name = name\n",
        "\n",
        "#step2: child class\n",
        "class Teacher(person):\n",
        "    def __init__(self, name, subject):\n",
        "        super().__init__(name)\n",
        "        self.subject = subject\n",
        "\n",
        "#step3:display\n",
        "    def display (self):\n",
        "      print(f\"Name: {self.name}, subject: {self.subject}\")\n",
        "#creating object\n",
        "if __name__ == \"__main__\":\n",
        "    teacher = Teacher(\"Miss sana\", \"maths\")\n",
        "    teacher.display()"
      ],
      "metadata": {
        "colab": {
          "base_uri": "https://localhost:8080/"
        },
        "id": "S1iKIygVugBq",
        "outputId": "efe8ed50-3930-481b-8c03-cb940d087b4c"
      },
      "execution_count": 9,
      "outputs": [
        {
          "output_type": "stream",
          "name": "stdout",
          "text": [
            "Name: Miss sana, subject: maths\n"
          ]
        }
      ]
    },
    {
      "cell_type": "code",
      "source": [
        "class Counter:\n",
        "    count = 0\n",
        "\n",
        "    def __init__(self):\n",
        "        Counter.count += 1\n",
        "\n",
        "    @classmethod\n",
        "    def show_count(cls):\n",
        "        print(f\"Total objects created: {cls.count}\")\n",
        "\n",
        "# The instantiation of objects and the call to show_count should be outside the class definition\n",
        "c1 = Counter()\n",
        "c2 = Counter()\n",
        "c3 = Counter()\n",
        "Counter.show_count()\n",
        "\n"
      ],
      "metadata": {
        "colab": {
          "base_uri": "https://localhost:8080/"
        },
        "id": "RYox0YZ-Ywqj",
        "outputId": "f222e25d-1d71-4700-98c2-efb0f38a4cfc"
      },
      "execution_count": 11,
      "outputs": [
        {
          "output_type": "stream",
          "name": "stdout",
          "text": [
            "Total objects created: 3\n"
          ]
        }
      ]
    },
    {
      "cell_type": "code",
      "source": [
        "class Student:\n",
        "\n",
        "    def __init__(self, name, marks):\n",
        "        self.name = name\n",
        "        self.marks = marks\n",
        "\n",
        "    def display(self):\n",
        "        print(f\"Name: {self.name}, Marks: {self.marks}\")\n",
        "\n",
        "\n",
        "s1 = Student(\"Syeda\", 98)\n",
        "\n",
        "s1.display()\n"
      ],
      "metadata": {
        "colab": {
          "base_uri": "https://localhost:8080/"
        },
        "id": "HXtckRO6bM43",
        "outputId": "44aa583a-6b77-4a9b-c43b-48b2fc82e6cd"
      },
      "execution_count": 13,
      "outputs": [
        {
          "output_type": "stream",
          "name": "stdout",
          "text": [
            "Name: Syeda, Marks: 98\n"
          ]
        }
      ]
    },
    {
      "cell_type": "code",
      "source": [
        "class Car:\n",
        "    def __init__(self,brand):\n",
        "        self.brand = brand\n",
        "\n",
        "    def start(self):\n",
        "        print(f\"{self.brand} is starting...\")\n",
        "\n",
        "if __name__ == \"__main__\":\n",
        "    my_car = Car(\"Toyota\")\n",
        "    print(my_car.brand)\n",
        "    my_car.start()\n"
      ],
      "metadata": {
        "colab": {
          "base_uri": "https://localhost:8080/"
        },
        "id": "8Hf0S2JHZJ5H",
        "outputId": "c40e58c0-4930-4629-c89e-e3c4aad68b0a"
      },
      "execution_count": 8,
      "outputs": [
        {
          "output_type": "stream",
          "name": "stdout",
          "text": [
            "Toyota\n",
            "Toyota is starting...\n"
          ]
        }
      ]
    }
  ]
}