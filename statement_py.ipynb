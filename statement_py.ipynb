{
  "nbformat": 4,
  "nbformat_minor": 0,
  "metadata": {
    "colab": {
      "provenance": [],
      "authorship_tag": "ABX9TyPzKZumRBhCuTYXO4WSxbfd",
      "include_colab_link": true
    },
    "kernelspec": {
      "name": "python3",
      "display_name": "Python 3"
    },
    "language_info": {
      "name": "python"
    }
  },
  "cells": [
    {
      "cell_type": "markdown",
      "metadata": {
        "id": "view-in-github",
        "colab_type": "text"
      },
      "source": [
        "<a href=\"https://colab.research.google.com/github/shanzytrac/03_if_statement/blob/main/statement_py.ipynb\" target=\"_parent\"><img src=\"https://colab.research.google.com/assets/colab-badge.svg\" alt=\"Open In Colab\"/></a>"
      ]
    },
    {
      "cell_type": "code",
      "source": [
        "print(\"01_print_events\")\n",
        "\n",
        "def even():\n",
        "  for i in range(40):\n",
        "    even = i * 2\n",
        "    print(even)\n",
        "  # print(\"Here is 20 even number are: \",i * 2)\n",
        "\n",
        "if __name__ == \"__main__\":\n",
        "    even()\n",
        "\n",
        "\n",
        "\n",
        "\n",
        "print(\"03_leap_year\")  #\n",
        "\n",
        "def leap_year():\n",
        "  year:int =int (input(\"Enter as year. \"))\n",
        "  if year % 4 == 0:\n",
        "    if year % 100 == 0:\n",
        "      if year % 400 == 0 :\n",
        "        print (f'{year}is a leap year. ')\n",
        "      else:\n",
        "       print(f'{year}is not a leap year. ')\n",
        "    else:\n",
        "      print(f'{year}is not a leap year. ')\n",
        "  else:\n",
        "    print(f'{year}is not a leap year. ')  #2035\n",
        "if __name__ == \"__main__\":\n",
        "  leap_year()"
      ],
      "metadata": {
        "id": "chCN1r8vuzgX"
      },
      "execution_count": null,
      "outputs": []
    }
  ]
}